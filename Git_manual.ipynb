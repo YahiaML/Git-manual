{
  "nbformat": 4,
  "nbformat_minor": 0,
  "metadata": {
    "colab": {
      "name": "Git-manual.ipynb",
      "provenance": [],
      "collapsed_sections": [],
      "authorship_tag": "ABX9TyMnPGmyHb4ZxqcKoHG/EYEt",
      "include_colab_link": true
    },
    "kernelspec": {
      "name": "python3",
      "display_name": "Python 3"
    },
    "language_info": {
      "name": "python"
    }
  },
  "cells": [
    {
      "cell_type": "markdown",
      "metadata": {
        "id": "view-in-github",
        "colab_type": "text"
      },
      "source": [
        "<a href=\"https://colab.research.google.com/github/YahiaML/Git-manual/blob/main/Git_manual.ipynb\" target=\"_parent\"><img src=\"https://colab.research.google.com/assets/colab-badge.svg\" alt=\"Open In Colab\"/></a>"
      ]
    },
    {
      "cell_type": "markdown",
      "source": [
        "##**diff**:\n",
        "\n",
        "used to find differences between two files."
      ],
      "metadata": {
        "id": "D67vyahkVXNS"
      }
    },
    {
      "cell_type": "markdown",
      "source": [
        "Show the difference only:\n",
        "\n",
        "```\n",
        "diff file_1.py file_2.py \n",
        "```\n",
        "\n",
        "Show the difference with explanation:\n",
        "\n",
        "```\n",
        "diff -u file_1.py file_2.py \n",
        "```\n",
        "\n",
        "export the difference to a file named difference.diff (it's preferred to use .diff):\n",
        "\n",
        "```\n",
        "diff -u file_1.py file_2.py > difference.diff\n",
        "```\n",
        "\n"
      ],
      "metadata": {
        "id": "lhMhdNkGVkta"
      }
    }
  ]
}