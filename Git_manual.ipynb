{
  "nbformat": 4,
  "nbformat_minor": 0,
  "metadata": {
    "colab": {
      "name": "Git-manual.ipynb",
      "provenance": [],
      "collapsed_sections": [],
      "authorship_tag": "ABX9TyMdaS3LgnVBjdAQlTifUI1N",
      "include_colab_link": true
    },
    "kernelspec": {
      "name": "python3",
      "display_name": "Python 3"
    },
    "language_info": {
      "name": "python"
    }
  },
  "cells": [
    {
      "cell_type": "markdown",
      "metadata": {
        "id": "view-in-github",
        "colab_type": "text"
      },
      "source": [
        "<a href=\"https://colab.research.google.com/github/YahiaML/Git-manual/blob/main/Git_manual.ipynb\" target=\"_parent\"><img src=\"https://colab.research.google.com/assets/colab-badge.svg\" alt=\"Open In Colab\"/></a>"
      ]
    },
    {
      "cell_type": "markdown",
      "source": [
        "#**Examples:**\n",
        "\n",
        "**file1.py**\n",
        "\n",
        "x = 1+2\n",
        "\n",
        "y = 3+4\n",
        "\n",
        "**file2.py**\n",
        "\n",
        "x = 1+2\n",
        "\n",
        "y = 3+4\n",
        "\n",
        "z = 5+6"
      ],
      "metadata": {
        "id": "27yXaPGVYDYl"
      }
    },
    {
      "cell_type": "markdown",
      "source": [
        "#**cat**:\n",
        "\n",
        "Show me the code"
      ],
      "metadata": {
        "id": "TxCBhIs5XEnd"
      }
    },
    {
      "cell_type": "markdown",
      "source": [
        "**command**\n",
        "\n"
      ],
      "metadata": {
        "id": "i7CsJCsEXOOf"
      }
    },
    {
      "cell_type": "code",
      "source": [
        "cat file1.py"
      ],
      "metadata": {
        "id": "cTiu2qcFctYB"
      },
      "execution_count": null,
      "outputs": []
    },
    {
      "cell_type": "markdown",
      "source": [
        "\n",
        "**output:**\n",
        "```\n",
        "x = 1+2\n",
        "\n",
        "y = 3+4\n",
        "```\n"
      ],
      "metadata": {
        "id": "nerSmbyjctYL"
      }
    },
    {
      "cell_type": "markdown",
      "source": [
        "#**diff**:\n",
        "\n",
        "Used to find differences between two files."
      ],
      "metadata": {
        "id": "D67vyahkVXNS"
      }
    },
    {
      "cell_type": "markdown",
      "source": [
        "###Show the difference only:\n",
        "\n",
        "**command**\n",
        "\n"
      ],
      "metadata": {
        "id": "lhMhdNkGVkta"
      }
    },
    {
      "cell_type": "code",
      "source": [
        "diff file_1.py file_2.py "
      ],
      "metadata": {
        "id": "Fc3yi3IZcbl6"
      },
      "execution_count": null,
      "outputs": []
    },
    {
      "cell_type": "markdown",
      "source": [
        "\n",
        "**output:**\n",
        "```\n",
        "2c2, 3\n",
        "< y = 3+4\n",
        "\\ No newline at end of file\n",
        "---\n",
        "> y = 3+4\n",
        "> z = 5+6\n",
        "\\ No newline at end of file\n",
        "```\n"
      ],
      "metadata": {
        "id": "Imgbts1jdCl7"
      }
    },
    {
      "cell_type": "markdown",
      "source": [
        "###Show the difference with explanation \n",
        "(compare two files, line by line, and have the differing lines compared side-by-side in the same output.)\n",
        "\n",
        "**command**\n"
      ],
      "metadata": {
        "id": "n7ezveR5ZiKT"
      }
    },
    {
      "cell_type": "code",
      "source": [
        "diff -u file_1.py file_2.py "
      ],
      "metadata": {
        "id": "EPB6O7NqcJy2"
      },
      "execution_count": null,
      "outputs": []
    },
    {
      "cell_type": "markdown",
      "source": [
        "\n",
        "**output:**\n",
        "```\n",
        "--- file_1.py     2022-08-11 19:24:12.556102821 +0900\n",
        "+++ file_1.py     2022-08-11 19:24:38.944207773 +0900\n",
        "@@ -1,2 +1,3 @@\n",
        " x = 1+2\n",
        "-y = 3+4\n",
        "\\ No newline at end of file\n",
        "+y = 3+4\n",
        "+z = 5+6\n",
        "\\ No newline at end of file\n",
        "```\n"
      ],
      "metadata": {
        "id": "NLzhHkeedPsZ"
      }
    },
    {
      "cell_type": "markdown",
      "source": [
        "\n",
        "###Export the difference to a file named difference.diff (it's preferred to use .diff):\n",
        "**command**"
      ],
      "metadata": {
        "id": "JzHgA6RDZj9y"
      }
    },
    {
      "cell_type": "code",
      "source": [
        "diff -u file_1.py file_2.py > difference.diff"
      ],
      "metadata": {
        "id": "vdyPwfjbb5KQ"
      },
      "execution_count": null,
      "outputs": []
    },
    {
      "cell_type": "markdown",
      "source": [
        "##**Patch**:\n",
        "\n",
        "Used for applying file differences\n",
        "\n",
        "**command**"
      ],
      "metadata": {
        "id": "1gHdOnfRXhLU"
      }
    },
    {
      "cell_type": "code",
      "source": [
        "patch file_1.py < difference.diff"
      ],
      "metadata": {
        "id": "Egcers56bsav"
      },
      "execution_count": null,
      "outputs": []
    }
  ]
}