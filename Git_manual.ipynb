{
  "nbformat": 4,
  "nbformat_minor": 0,
  "metadata": {
    "colab": {
      "name": "Git-manual.ipynb",
      "provenance": [],
      "collapsed_sections": [],
      "authorship_tag": "ABX9TyOj7jlOmmzOKAhmUn61wAS3",
      "include_colab_link": true
    },
    "kernelspec": {
      "name": "python3",
      "display_name": "Python 3"
    },
    "language_info": {
      "name": "python"
    }
  },
  "cells": [
    {
      "cell_type": "markdown",
      "metadata": {
        "id": "view-in-github",
        "colab_type": "text"
      },
      "source": [
        "<a href=\"https://colab.research.google.com/github/YahiaML/Git-manual/blob/main/Git_manual.ipynb\" target=\"_parent\"><img src=\"https://colab.research.google.com/assets/colab-badge.svg\" alt=\"Open In Colab\"/></a>"
      ]
    },
    {
      "cell_type": "markdown",
      "source": [
        "#**Examples:**\n",
        "\n",
        "**file1.py**\n",
        "\n",
        "x = 1+2\n",
        "\n",
        "y = 3+4\n",
        "\n",
        "**file2.py**\n",
        "\n",
        "x = 1+2\n",
        "\n",
        "y = 3+4\n",
        "\n",
        "z = 5+6"
      ],
      "metadata": {
        "id": "27yXaPGVYDYl"
      }
    },
    {
      "cell_type": "markdown",
      "source": [
        "#**cat**:\n",
        "\n",
        "Show me the code"
      ],
      "metadata": {
        "id": "TxCBhIs5XEnd"
      }
    },
    {
      "cell_type": "markdown",
      "source": [
        "**command**\n",
        "\n"
      ],
      "metadata": {
        "id": "i7CsJCsEXOOf"
      }
    },
    {
      "cell_type": "code",
      "source": [
        "cat file1.py"
      ],
      "metadata": {
        "id": "cTiu2qcFctYB"
      },
      "execution_count": null,
      "outputs": []
    },
    {
      "cell_type": "markdown",
      "source": [
        "\n",
        "**output:**\n",
        "```\n",
        "x = 1+2\n",
        "\n",
        "y = 3+4\n",
        "```\n"
      ],
      "metadata": {
        "id": "nerSmbyjctYL"
      }
    },
    {
      "cell_type": "markdown",
      "source": [
        "#**diff**:\n",
        "\n",
        "Used to find differences between two files."
      ],
      "metadata": {
        "id": "D67vyahkVXNS"
      }
    },
    {
      "cell_type": "markdown",
      "source": [
        "###Show the difference only:\n",
        "\n",
        "**command**\n",
        "\n"
      ],
      "metadata": {
        "id": "lhMhdNkGVkta"
      }
    },
    {
      "cell_type": "code",
      "source": [
        "diff file_1.py file_2.py "
      ],
      "metadata": {
        "id": "Fc3yi3IZcbl6"
      },
      "execution_count": null,
      "outputs": []
    },
    {
      "cell_type": "markdown",
      "source": [
        "\n",
        "**output:**\n",
        "```\n",
        "2c2, 3\n",
        "< y = 3+4\n",
        "\\ No newline at end of file\n",
        "---\n",
        "> y = 3+4\n",
        "> z = 5+6\n",
        "\\ No newline at end of file\n",
        "```\n"
      ],
      "metadata": {
        "id": "Imgbts1jdCl7"
      }
    },
    {
      "cell_type": "markdown",
      "source": [
        "###Show the difference with explanation \n",
        "(compare two files, line by line, and have the differing lines compared side-by-side in the same output.)\n",
        "\n",
        "**command**\n"
      ],
      "metadata": {
        "id": "n7ezveR5ZiKT"
      }
    },
    {
      "cell_type": "code",
      "source": [
        "diff -u file_1.py file_2.py "
      ],
      "metadata": {
        "id": "EPB6O7NqcJy2"
      },
      "execution_count": null,
      "outputs": []
    },
    {
      "cell_type": "markdown",
      "source": [
        "\n",
        "**output:**\n",
        "```\n",
        "--- file_1.py     2022-08-11 19:24:12.556102821 +0900\n",
        "+++ file_1.py     2022-08-11 19:24:38.944207773 +0900\n",
        "@@ -1,2 +1,3 @@\n",
        " x = 1+2\n",
        "-y = 3+4\n",
        "\\ No newline at end of file\n",
        "+y = 3+4\n",
        "+z = 5+6\n",
        "\\ No newline at end of file\n",
        "```\n"
      ],
      "metadata": {
        "id": "NLzhHkeedPsZ"
      }
    },
    {
      "cell_type": "markdown",
      "source": [
        "\n",
        "###Export the difference to a file named difference.diff (it's preferred to use .diff):\n",
        "**command**"
      ],
      "metadata": {
        "id": "JzHgA6RDZj9y"
      }
    },
    {
      "cell_type": "code",
      "source": [
        "diff -u file_1.py file_2.py > difference.diff"
      ],
      "metadata": {
        "id": "vdyPwfjbb5KQ"
      },
      "execution_count": null,
      "outputs": []
    },
    {
      "cell_type": "markdown",
      "source": [
        "#**Patch**:\n",
        "\n",
        "Used for applying file differences\n",
        "\n",
        "**command**"
      ],
      "metadata": {
        "id": "1gHdOnfRXhLU"
      }
    },
    {
      "cell_type": "code",
      "source": [
        "patch file_1.py < difference.diff"
      ],
      "metadata": {
        "id": "Egcers56bsav"
      },
      "execution_count": null,
      "outputs": []
    },
    {
      "cell_type": "markdown",
      "source": [
        "\n",
        "**output:**\n",
        "```\n",
        "patching file file_1.py\n",
        "Hunk #1 succeeded at 1 with fuzz1.\n",
        "```\n"
      ],
      "metadata": {
        "id": "KSvn3Werd0H5"
      }
    },
    {
      "cell_type": "markdown",
      "source": [
        "#**git init**:\n",
        "\n",
        "Used for initializing an empty Git repository\n",
        "\n",
        "**command**"
      ],
      "metadata": {
        "id": "mshbhqxTH8KQ"
      }
    },
    {
      "cell_type": "code",
      "source": [
        "mkdir checks\n",
        "cd checks\n",
        "git init"
      ],
      "metadata": {
        "id": "Xin0xZwEH8KR"
      },
      "execution_count": null,
      "outputs": []
    },
    {
      "cell_type": "markdown",
      "source": [
        "\n",
        "**output:**\n",
        "```\n",
        "initialized empty Git repoaitory in C:/Users/Guest/Desktop/checks/.git/\n",
        "```\n"
      ],
      "metadata": {
        "id": "5CVCvIvEH8KR"
      }
    },
    {
      "cell_type": "markdown",
      "source": [
        "We can check that this directory (.git) exist using this: \n",
        "\n",
        "**command**"
      ],
      "metadata": {
        "id": "tiTq2x1hJA2I"
      }
    },
    {
      "cell_type": "code",
      "source": [
        "ls -la"
      ],
      "metadata": {
        "id": "F7SAkXF2JLs3"
      },
      "execution_count": null,
      "outputs": []
    },
    {
      "cell_type": "markdown",
      "source": [
        "\n",
        "**output:**\n",
        "```\n",
        "total 32\n",
        "drwxr-xr-x 1 Guest 197212 0 Aug 13 04:50 ./\n",
        "drwxr-xr-x 1 Guest 197212 0 Aug 13 04:50 ../\n",
        "drwxr-xr-x 1 Guest 197212 0 Aug 13 04:50 .git/\n",
        "\n",
        "```\n"
      ],
      "metadata": {
        "id": "9_ZN0nCQJSD1"
      }
    },
    {
      "cell_type": "markdown",
      "source": [
        "We can also use the ls-l.git command to look inside of it and see the many different things it contains\n",
        "\n",
        "**command**"
      ],
      "metadata": {
        "id": "nNRGjR6fJvq_"
      }
    },
    {
      "cell_type": "code",
      "source": [
        "ls-l.git"
      ],
      "metadata": {
        "id": "JF1gVK2wJzoH"
      },
      "execution_count": null,
      "outputs": []
    },
    {
      "cell_type": "markdown",
      "source": [
        "\n",
        "**output:**\n",
        "```\n",
        "total 11\n",
        "drwxr-xr-x 1 Guest 197212   0 Aug 13 04:50 ./\n",
        "drwxr-xr-x 1 Guest 197212   0 Aug 13 04:50 ../\n",
        "-rw-r--r-- 1 Guest 197212 130 Aug 13 04:50 config\n",
        "-rw-r--r-- 1 Guest 197212  73 Aug 13 04:50 description\n",
        "-rw-r--r-- 1 Guest 197212  23 Aug 13 04:50 HEAD\n",
        "drwxr-xr-x 1 Guest 197212   0 Aug 13 04:50 hooks/\n",
        "drwxr-xr-x 1 Guest 197212   0 Aug 13 04:50 info/\n",
        "drwxr-xr-x 1 Guest 197212   0 Aug 13 04:50 objects/\n",
        "drwxr-xr-x 1 Guest 197212   0 Aug 13 04:50 refs/\n",
        "```\n"
      ],
      "metadata": {
        "id": "4M6nh5sAJ6f7"
      }
    },
    {
      "cell_type": "markdown",
      "source": [
        "#**Copy a file into the repository**:\n",
        "\n",
        "\n",
        "**command**"
      ],
      "metadata": {
        "id": "m22rYkxoLzsI"
      }
    },
    {
      "cell_type": "code",
      "source": [
        "cp ../file_1.py .       # Dont forget the dot after the file name"
      ],
      "metadata": {
        "id": "0trMYFRLLzsQ"
      },
      "execution_count": null,
      "outputs": []
    },
    {
      "cell_type": "markdown",
      "source": [
        "Now lets check that it was copied"
      ],
      "metadata": {
        "id": "rBw9n0gYMW3q"
      }
    },
    {
      "cell_type": "code",
      "source": [
        "ls -l"
      ],
      "metadata": {
        "id": "iXllUPRDMsiM"
      },
      "execution_count": null,
      "outputs": []
    },
    {
      "cell_type": "markdown",
      "source": [
        "\n",
        "**output:**\n",
        "```\n",
        "total 1\n",
        "-rw-r--r-- 1 Guest 197212 16 Aug 13 04:50 file_1.py\n",
        "```\n"
      ],
      "metadata": {
        "id": "EVWpxK8XMxlZ"
      }
    },
    {
      "cell_type": "markdown",
      "source": [
        "#**make Git track the file**\n",
        "\n",
        "**command**"
      ],
      "metadata": {
        "id": "bcuCqpSdNmgI"
      }
    },
    {
      "cell_type": "code",
      "source": [
        "git add file_1.py"
      ],
      "metadata": {
        "id": "d9iNnyweNuHP"
      },
      "execution_count": null,
      "outputs": []
    },
    {
      "cell_type": "markdown",
      "source": [
        "\n",
        "**output:**\n",
        "```\n",
        "On branch master\n",
        "\n",
        "No commits yet\n",
        "\n",
        "Changes to be commited:\n",
        "  <use \"git rm --cached <file>...\" to unstage>\n",
        "        new file:   File_1.py\n",
        "```\n"
      ],
      "metadata": {
        "id": "NeWemiRmPDSb"
      }
    },
    {
      "cell_type": "markdown",
      "source": [
        "#**Get the changes committed into the .git directory**\n",
        "for more dtails:\n",
        "https://git-scm.com/docs/git-commit\n",
        "\n",
        "**command**"
      ],
      "metadata": {
        "id": "at8BkSTdQZfQ"
      }
    },
    {
      "cell_type": "code",
      "source": [
        "git commit"
      ],
      "metadata": {
        "id": "lf2-xXBoQZfR"
      },
      "execution_count": null,
      "outputs": []
    },
    {
      "cell_type": "markdown",
      "source": [
        "#**Open atom from git to modify the code**\n",
        "**command**"
      ],
      "metadata": {
        "id": "cWfGb-B-Yvvj"
      }
    },
    {
      "cell_type": "code",
      "source": [
        "atom file_1.py"
      ],
      "metadata": {
        "id": "0ijI57WXYvvk"
      },
      "execution_count": null,
      "outputs": []
    },
    {
      "cell_type": "markdown",
      "source": [
        "now lets check the state of the working directory and the staging area"
      ],
      "metadata": {
        "id": "YC0FSoZcZ5Os"
      }
    },
    {
      "cell_type": "markdown",
      "source": [
        "#**git status**\n",
        "\n",
        "**command**"
      ],
      "metadata": {
        "id": "rsPBVI2BaEIY"
      }
    },
    {
      "cell_type": "code",
      "source": [
        "git status"
      ],
      "metadata": {
        "id": "h5-eg4R4aEIg"
      },
      "execution_count": null,
      "outputs": []
    },
    {
      "cell_type": "markdown",
      "source": [
        "\n",
        "**output:**\n",
        "```\n",
        "On branch master\n",
        "Changes not staged for commit:\n",
        "  <use \"git add <file>...\" to update what will be committed>\n",
        "  <use \"git restore -- <file>...\" to discard changes in working directory>\n",
        "        modified:     File_1.py\n",
        "\n",
        "no changes added to commit <use \"gi add\" and/or \"git commit -a\">\n",
        "```\n"
      ],
      "metadata": {
        "id": "vOg82jfJaEIg"
      }
    }
  ]
}