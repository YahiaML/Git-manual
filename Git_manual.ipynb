{
  "nbformat": 4,
  "nbformat_minor": 0,
  "metadata": {
    "colab": {
      "name": "Git-manual.ipynb",
      "provenance": [],
      "collapsed_sections": [],
      "authorship_tag": "ABX9TyOazqds8CCTRnA+ajf1e/Q5",
      "include_colab_link": true
    },
    "kernelspec": {
      "name": "python3",
      "display_name": "Python 3"
    },
    "language_info": {
      "name": "python"
    }
  },
  "cells": [
    {
      "cell_type": "markdown",
      "metadata": {
        "id": "view-in-github",
        "colab_type": "text"
      },
      "source": [
        "<a href=\"https://colab.research.google.com/github/YahiaML/Git-manual/blob/main/Git_manual.ipynb\" target=\"_parent\"><img src=\"https://colab.research.google.com/assets/colab-badge.svg\" alt=\"Open In Colab\"/></a>"
      ]
    },
    {
      "cell_type": "markdown",
      "source": [
        "#**Examples:**\n",
        "\n",
        "**file1.py**\n",
        "\n",
        "x = 1+2\n",
        "\n",
        "y = 3+4\n",
        "\n",
        "**file2.py**\n",
        "\n",
        "x = 1+2\n",
        "\n",
        "y = 3+4\n",
        "\n",
        "z = 5+6"
      ],
      "metadata": {
        "id": "27yXaPGVYDYl"
      }
    },
    {
      "cell_type": "markdown",
      "source": [
        "#**cat**:\n",
        "\n",
        "Show me the code"
      ],
      "metadata": {
        "id": "TxCBhIs5XEnd"
      }
    },
    {
      "cell_type": "markdown",
      "source": [
        "**command**\n",
        "\n"
      ],
      "metadata": {
        "id": "i7CsJCsEXOOf"
      }
    },
    {
      "cell_type": "code",
      "source": [
        "cat file1.py"
      ],
      "metadata": {
        "id": "cTiu2qcFctYB"
      },
      "execution_count": null,
      "outputs": []
    },
    {
      "cell_type": "markdown",
      "source": [
        "\n",
        "**output:**\n",
        "```\n",
        "x = 1+2\n",
        "\n",
        "y = 3+4\n",
        "```\n"
      ],
      "metadata": {
        "id": "nerSmbyjctYL"
      }
    },
    {
      "cell_type": "markdown",
      "source": [
        "#**diff**:\n",
        "\n",
        "Used to find differences between two files."
      ],
      "metadata": {
        "id": "D67vyahkVXNS"
      }
    },
    {
      "cell_type": "markdown",
      "source": [
        "###Show the difference only:\n",
        "\n",
        "**command**\n",
        "\n"
      ],
      "metadata": {
        "id": "lhMhdNkGVkta"
      }
    },
    {
      "cell_type": "code",
      "source": [
        "diff file_1.py file_2.py "
      ],
      "metadata": {
        "id": "Fc3yi3IZcbl6"
      },
      "execution_count": null,
      "outputs": []
    },
    {
      "cell_type": "markdown",
      "source": [
        "\n",
        "**output:**\n",
        "```\n",
        "2c2, 3\n",
        "< y = 3+4\n",
        "\\ No newline at end of file\n",
        "---\n",
        "> y = 3+4\n",
        "> z = 5+6\n",
        "\\ No newline at end of file\n",
        "```\n"
      ],
      "metadata": {
        "id": "Imgbts1jdCl7"
      }
    },
    {
      "cell_type": "markdown",
      "source": [
        "###Show the difference with explanation \n",
        "(compare two files, line by line, and have the differing lines compared side-by-side in the same output.)\n",
        "\n",
        "**command**\n"
      ],
      "metadata": {
        "id": "n7ezveR5ZiKT"
      }
    },
    {
      "cell_type": "code",
      "source": [
        "diff -u file_1.py file_2.py "
      ],
      "metadata": {
        "id": "EPB6O7NqcJy2"
      },
      "execution_count": null,
      "outputs": []
    },
    {
      "cell_type": "markdown",
      "source": [
        "\n",
        "**output:**\n",
        "```\n",
        "--- file_1.py     2022-08-11 19:24:12.556102821 +0900\n",
        "+++ file_1.py     2022-08-11 19:24:38.944207773 +0900\n",
        "@@ -1,2 +1,3 @@\n",
        " x = 1+2\n",
        "-y = 3+4\n",
        "\\ No newline at end of file\n",
        "+y = 3+4\n",
        "+z = 5+6\n",
        "\\ No newline at end of file\n",
        "```\n"
      ],
      "metadata": {
        "id": "NLzhHkeedPsZ"
      }
    },
    {
      "cell_type": "markdown",
      "source": [
        "\n",
        "###Export the difference to a file named difference.diff (it's preferred to use .diff):\n",
        "**command**"
      ],
      "metadata": {
        "id": "JzHgA6RDZj9y"
      }
    },
    {
      "cell_type": "code",
      "source": [
        "diff -u file_1.py file_2.py > difference.diff"
      ],
      "metadata": {
        "id": "vdyPwfjbb5KQ"
      },
      "execution_count": null,
      "outputs": []
    },
    {
      "cell_type": "markdown",
      "source": [
        "#**Patch**:\n",
        "\n",
        "Used for applying file differences\n",
        "\n",
        "**command**"
      ],
      "metadata": {
        "id": "1gHdOnfRXhLU"
      }
    },
    {
      "cell_type": "code",
      "source": [
        "patch file_1.py < difference.diff"
      ],
      "metadata": {
        "id": "Egcers56bsav"
      },
      "execution_count": null,
      "outputs": []
    },
    {
      "cell_type": "markdown",
      "source": [
        "\n",
        "**output:**\n",
        "```\n",
        "patching file file_1.py\n",
        "Hunk #1 succeeded at 1 with fuzz1.\n",
        "```\n"
      ],
      "metadata": {
        "id": "KSvn3Werd0H5"
      }
    },
    {
      "cell_type": "markdown",
      "source": [
        "#**Change user name**:\n",
        "\n",
        "Used for applying file differences\n",
        "\n",
        "**command**"
      ],
      "metadata": {
        "id": "lZQGD6h7sEog"
      }
    },
    {
      "cell_type": "code",
      "source": [
        "git config --global user.name \"Yahia_ML\""
      ],
      "metadata": {
        "id": "bKLX7GdFsbnn"
      },
      "execution_count": null,
      "outputs": []
    },
    {
      "cell_type": "markdown",
      "source": [
        "#**Change user email**:\n",
        "\n",
        "Used for applying file differences\n",
        "\n",
        "**command**"
      ],
      "metadata": {
        "id": "IPaflk13sbnm"
      }
    },
    {
      "cell_type": "code",
      "source": [
        "git config --global user.email \"Yahia_ML@example.com\""
      ],
      "metadata": {
        "id": "tscY4_eusEoo"
      },
      "execution_count": null,
      "outputs": []
    },
    {
      "cell_type": "markdown",
      "source": [
        "Let's check if they changed\n",
        "\n",
        "**Command**"
      ],
      "metadata": {
        "id": "Bhu34MFWsk9C"
      }
    },
    {
      "cell_type": "code",
      "source": [
        "git config -l"
      ],
      "metadata": {
        "id": "XI8osh10svwZ"
      },
      "execution_count": null,
      "outputs": []
    },
    {
      "cell_type": "markdown",
      "source": [
        "**output**\n",
        "\n",
        "![Capture.PNG](data:image/png;base64,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)"
      ],
      "metadata": {
        "id": "nEOTOriesyqp"
      }
    },
    {
      "cell_type": "markdown",
      "source": [
        "#**git init**:\n",
        "\n",
        "Used for initializing an empty Git repository\n",
        "\n",
        "**command**"
      ],
      "metadata": {
        "id": "mshbhqxTH8KQ"
      }
    },
    {
      "cell_type": "code",
      "source": [
        "mkdir checks       # create an empty directory \n",
        "cd checks          # work inside the directory \n",
        "git init           # initialize an empty Git repository in the directory"
      ],
      "metadata": {
        "id": "Xin0xZwEH8KR"
      },
      "execution_count": null,
      "outputs": []
    },
    {
      "cell_type": "markdown",
      "source": [
        "\n",
        "**output:**\n",
        "```\n",
        "initialized empty Git repoaitory in C:/Users/Guest/Desktop/checks/.git/\n",
        "```\n"
      ],
      "metadata": {
        "id": "5CVCvIvEH8KR"
      }
    },
    {
      "cell_type": "markdown",
      "source": [
        "We can check that this directory (.git) exist using this: \n",
        "\n",
        "**command**"
      ],
      "metadata": {
        "id": "tiTq2x1hJA2I"
      }
    },
    {
      "cell_type": "code",
      "source": [
        "ls -la"
      ],
      "metadata": {
        "id": "F7SAkXF2JLs3"
      },
      "execution_count": null,
      "outputs": []
    },
    {
      "cell_type": "markdown",
      "source": [
        "\n",
        "**output:**\n",
        "```\n",
        "total 32\n",
        "drwxr-xr-x 1 Guest 197212 0 Aug 13 04:50 ./\n",
        "drwxr-xr-x 1 Guest 197212 0 Aug 13 04:50 ../\n",
        "drwxr-xr-x 1 Guest 197212 0 Aug 13 04:50 .git/\n",
        "\n",
        "```\n"
      ],
      "metadata": {
        "id": "9_ZN0nCQJSD1"
      }
    },
    {
      "cell_type": "markdown",
      "source": [
        "We can also use the ls-l.git command to look inside of it and see the many different things it contains\n",
        "\n",
        "**command**"
      ],
      "metadata": {
        "id": "nNRGjR6fJvq_"
      }
    },
    {
      "cell_type": "code",
      "source": [
        "ls-l.git"
      ],
      "metadata": {
        "id": "JF1gVK2wJzoH"
      },
      "execution_count": null,
      "outputs": []
    },
    {
      "cell_type": "markdown",
      "source": [
        "\n",
        "**output:**\n",
        "```\n",
        "total 11\n",
        "drwxr-xr-x 1 Guest 197212   0 Aug 13 04:50 ./\n",
        "drwxr-xr-x 1 Guest 197212   0 Aug 13 04:50 ../\n",
        "-rw-r--r-- 1 Guest 197212 130 Aug 13 04:50 config\n",
        "-rw-r--r-- 1 Guest 197212  73 Aug 13 04:50 description\n",
        "-rw-r--r-- 1 Guest 197212  23 Aug 13 04:50 HEAD\n",
        "drwxr-xr-x 1 Guest 197212   0 Aug 13 04:50 hooks/\n",
        "drwxr-xr-x 1 Guest 197212   0 Aug 13 04:50 info/\n",
        "drwxr-xr-x 1 Guest 197212   0 Aug 13 04:50 objects/\n",
        "drwxr-xr-x 1 Guest 197212   0 Aug 13 04:50 refs/\n",
        "```\n"
      ],
      "metadata": {
        "id": "4M6nh5sAJ6f7"
      }
    },
    {
      "cell_type": "markdown",
      "source": [
        "#**Copy a file into the repository**:\n",
        "\n",
        "\n",
        "**command**"
      ],
      "metadata": {
        "id": "m22rYkxoLzsI"
      }
    },
    {
      "cell_type": "code",
      "source": [
        "cp ../file_1.py .       # Dont forget the dot after the file name"
      ],
      "metadata": {
        "id": "0trMYFRLLzsQ"
      },
      "execution_count": null,
      "outputs": []
    },
    {
      "cell_type": "markdown",
      "source": [
        "Now lets check that it was copied"
      ],
      "metadata": {
        "id": "rBw9n0gYMW3q"
      }
    },
    {
      "cell_type": "code",
      "source": [
        "ls -l"
      ],
      "metadata": {
        "id": "iXllUPRDMsiM"
      },
      "execution_count": null,
      "outputs": []
    },
    {
      "cell_type": "markdown",
      "source": [
        "\n",
        "**output:**\n",
        "```\n",
        "total 1\n",
        "-rw-r--r-- 1 Guest 197212 16 Aug 13 04:50 file_1.py\n",
        "```\n"
      ],
      "metadata": {
        "id": "EVWpxK8XMxlZ"
      }
    },
    {
      "cell_type": "markdown",
      "source": [
        "#**git add**\n",
        "\n",
        "make Git track the file\n",
        "\n",
        "**command**"
      ],
      "metadata": {
        "id": "bcuCqpSdNmgI"
      }
    },
    {
      "cell_type": "code",
      "source": [
        "git add file_1.py"
      ],
      "metadata": {
        "id": "d9iNnyweNuHP"
      },
      "execution_count": null,
      "outputs": []
    },
    {
      "cell_type": "markdown",
      "source": [
        "now lets check the state of the working directory and the staging area again\n",
        "\n",
        "**command**"
      ],
      "metadata": {
        "id": "6cGoMCdObvCf"
      }
    },
    {
      "cell_type": "code",
      "source": [
        "git status"
      ],
      "metadata": {
        "id": "bN_jYNdRbvCg"
      },
      "execution_count": null,
      "outputs": []
    },
    {
      "cell_type": "markdown",
      "source": [
        "\n",
        "**output:**\n",
        "```\n",
        "On branch master\n",
        "\n",
        "No commits yet\n",
        "\n",
        "Changes to be commited:\n",
        "  <use \"git rm --cached <file>...\" to unstage>\n",
        "        new file:   File_1.py\n",
        "```\n"
      ],
      "metadata": {
        "id": "NeWemiRmPDSb"
      }
    },
    {
      "cell_type": "markdown",
      "source": [
        "#**Open atom from git to modify the code**\n",
        "**command**"
      ],
      "metadata": {
        "id": "cWfGb-B-Yvvj"
      }
    },
    {
      "cell_type": "code",
      "source": [
        "atom file_1.py"
      ],
      "metadata": {
        "id": "0ijI57WXYvvk"
      },
      "execution_count": null,
      "outputs": []
    },
    {
      "cell_type": "markdown",
      "source": [
        "now lets check the state of the working directory and the staging area"
      ],
      "metadata": {
        "id": "YC0FSoZcZ5Os"
      }
    },
    {
      "cell_type": "markdown",
      "source": [
        "#**git status**\n",
        "\n",
        "**command**"
      ],
      "metadata": {
        "id": "rsPBVI2BaEIY"
      }
    },
    {
      "cell_type": "code",
      "source": [
        "git status"
      ],
      "metadata": {
        "id": "h5-eg4R4aEIg"
      },
      "execution_count": null,
      "outputs": []
    },
    {
      "cell_type": "markdown",
      "source": [
        "\n",
        "**output:**\n",
        "```\n",
        "On branch master\n",
        "Changes not staged for commit:\n",
        "  <use \"git add <file>...\" to update what will be committed>\n",
        "  <use \"git restore -- <file>...\" to discard changes in working directory>\n",
        "        modified:     file_1.py\n",
        "\n",
        "no changes added to commit <use \"gi add\" and/or \"git commit -a\">\n",
        "```\n"
      ],
      "metadata": {
        "id": "vOg82jfJaEIg"
      }
    },
    {
      "cell_type": "markdown",
      "source": [
        "#**git add**\n",
        "make Git track the file\n",
        "\n",
        "**command**"
      ],
      "metadata": {
        "id": "FKl_vQTpk6Qu"
      }
    },
    {
      "cell_type": "code",
      "source": [
        "git add file_1.py"
      ],
      "metadata": {
        "id": "uIhJfsw9k6Q1"
      },
      "execution_count": null,
      "outputs": []
    },
    {
      "cell_type": "markdown",
      "source": [
        "now lets check the state of the working directory and the staging area again\n",
        "\n",
        "**command**"
      ],
      "metadata": {
        "id": "12UgU-BNlmpE"
      }
    },
    {
      "cell_type": "code",
      "source": [
        "git status"
      ],
      "metadata": {
        "id": "Pl4jXqTllrze"
      },
      "execution_count": null,
      "outputs": []
    },
    {
      "cell_type": "markdown",
      "source": [
        "\n",
        "**output:**\n",
        "```\n",
        "On branch master\n",
        "Changes to be commited:\n",
        "  <use \"git restore --staged <file>...\" to unstage>        \n",
        "        modified:     file_1.py\n",
        "```\n"
      ],
      "metadata": {
        "id": "auKo6aU8k6Q2"
      }
    },
    {
      "cell_type": "markdown",
      "source": [
        "#**git commit**\n",
        "Get the changes committed into the .git directory\n",
        "\n",
        "\n",
        "**command**"
      ],
      "metadata": {
        "id": "at8BkSTdQZfQ"
      }
    },
    {
      "cell_type": "code",
      "source": [
        "git commit"
      ],
      "metadata": {
        "id": "lf2-xXBoQZfR"
      },
      "execution_count": null,
      "outputs": []
    },
    {
      "cell_type": "markdown",
      "source": [
        "#**git commit -m**\n",
        "include a message\n",
        "\n",
        "**command**"
      ],
      "metadata": {
        "id": "IPm8Cl2InCuJ"
      }
    },
    {
      "cell_type": "code",
      "source": [
        "git commit -m \"added a new line\""
      ],
      "metadata": {
        "id": "INBsEytdnCuK"
      },
      "execution_count": null,
      "outputs": []
    },
    {
      "cell_type": "markdown",
      "source": [
        "\n",
        "**output:**\n",
        "```\n",
        "[master cfb5c4u] added a new line\n",
        " 1 file changed, 2 insertions(+), 1 deletion(-)\n",
        "```\n"
      ],
      "metadata": {
        "id": "oqQCNPkZnp6g"
      }
    },
    {
      "cell_type": "markdown",
      "source": [
        "now lets check the state of the working directory and the staging area again\n",
        "\n",
        "**command**"
      ],
      "metadata": {
        "id": "SJqgtAfpoV7-"
      }
    },
    {
      "cell_type": "code",
      "source": [
        "git status"
      ],
      "metadata": {
        "id": "nTBEbpoVoYUW"
      },
      "execution_count": null,
      "outputs": []
    },
    {
      "cell_type": "markdown",
      "source": [
        "\n",
        "**output:**\n",
        "```\n",
        "On branch master\n",
        "nothing to commit, working tree clean\n",
        "```\n"
      ],
      "metadata": {
        "id": "eS89RqhnoehO"
      }
    },
    {
      "cell_type": "markdown",
      "source": [
        "#**git commit -a -m**\n",
        "Skipping the Staging Area (ship git add then get commiit every time)\n",
        "\n",
        "**command**"
      ],
      "metadata": {
        "id": "hoTlEYFocWBm"
      }
    },
    {
      "cell_type": "code",
      "source": [
        "git commit -a -m \"added a new line\""
      ],
      "metadata": {
        "id": "NTGSaC4wcWBn"
      },
      "execution_count": null,
      "outputs": []
    },
    {
      "cell_type": "markdown",
      "source": [
        "\n",
        "**output:**\n",
        "```\n",
        "[master <root-commit> cfb5c4u] added a new line\n",
        " 1 file changed, 3 insertions(+)\n",
        " create mode 100644 file_1.py\n",
        "```\n"
      ],
      "metadata": {
        "id": "DavR6rDHcWBn"
      }
    }
  ]
}